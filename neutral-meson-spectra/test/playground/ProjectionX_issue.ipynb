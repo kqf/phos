{
 "cells": [
  {
   "cell_type": "code",
   "execution_count": 57,
   "metadata": {
    "collapsed": false
   },
   "outputs": [
    {
     "name": "stdout",
     "output_type": "stream",
     "text": [
      "Total integral of the hist  766524.0\n",
      "Checking the bin range\n",
      "1 750 381 401\n",
      "Original histogram in required range 2369.0\n",
      "Normal projection 2369.0\n",
      "Updated the full histogram 767524.0\n",
      "Distorted projection 3369.0\n"
     ]
    }
   ],
   "source": [
    "import ROOT\n",
    "\n",
    "def test_hist(hist, ptbins = [3.8, 4.0, 4.5]):\n",
    "    print 'Total integral of the hist ', hist.Integral()\n",
    "\n",
    "    # Define helper functions\n",
    "    yaxis = hist.GetYaxis()\n",
    "    ybin  = lambda x: yaxis.FindBin(x)\n",
    "    low   = lambda x: hist.GetBinLowEdge(x)\n",
    "    width = lambda x: yaxis.GetBinWidth(x)\n",
    "    cbin =  lambda x: yaxis.GetBinCenter(x)\n",
    "    proj =  lambda name, x: hist.ProjectionX(name, *x)\n",
    "    \n",
    "    bins = map(ybin, ptbins)\n",
    "\n",
    "    print 'Checking the bin range'\n",
    "    print 1, hist.GetNbinsX(), bins[0], bins[1]\n",
    "    print 'Original histogram in required range', hist.Integral(1, hist.GetNbinsX(), bins[0], bins[1], '')\n",
    "\n",
    "\n",
    "\n",
    "    # Calculate normal projection\n",
    "    normal = proj('normal', bins[0:-1])\n",
    "    print 'Normal projection', normal.Integral()\n",
    "\n",
    "    # Distort the original histogram\n",
    "    hist.Fill(0.135, cbin(bins[1]), 1000)\n",
    "    \n",
    "    print 'Updated the full histogram', hist.Integral()\n",
    "    # Calculate distorted projection\n",
    "    distorted = proj('distorted', bins[0:-1])\n",
    "    print 'Distorted projection', distorted.Integral()\n",
    "    \n",
    "    \n",
    "    assert no\n",
    "\n",
    "\n",
    "\n",
    "f = ROOT.TFile('input-data/Pythia-LHC16-iteration18.root')\n",
    "hist = f.PhysNonlinTender.FindObject('hMassPtN3')\n",
    "test_hist(hist)"
   ]
  },
  {
   "cell_type": "code",
   "execution_count": null,
   "metadata": {
    "collapsed": true
   },
   "outputs": [],
   "source": [
    "\n"
   ]
  }
 ],
 "metadata": {
  "kernelspec": {
   "display_name": "Python 2",
   "language": "python2",
   "name": "python2"
  },
  "language_info": {
   "codemirror_mode": {
    "name": "ipython",
    "version": 2
   },
   "file_extension": ".py",
   "mimetype": "text/x-python",
   "name": "python",
   "nbconvert_exporter": "python",
   "pygments_lexer": "ipython2",
   "version": "2.7.13"
  }
 },
 "nbformat": 4,
 "nbformat_minor": 2
}
